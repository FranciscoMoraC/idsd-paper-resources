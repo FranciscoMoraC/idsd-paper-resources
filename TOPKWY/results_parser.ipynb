{
 "cells": [
  {
   "cell_type": "markdown",
   "metadata": {},
   "source": [
    "# Results parser\n",
    "\n",
    "Parse results from the TopKWY execution to the original descriptors. This notebook uses the `translation_dict.txt` file generated in `mushroom_to_topkwy.ipynb`."
   ]
  },
  {
   "cell_type": "code",
   "execution_count": 3,
   "metadata": {},
   "outputs": [],
   "source": [
    "try:\n",
    "    f = open(\"translation_dict.txt\", \"r\")\n",
    "    translation_dict = eval(f.read())\n",
    "    f.close()\n",
    "except Exception as e:\n",
    "    print(\"Error reading translation_dict.txt\")\n",
    "    print(e)"
   ]
  },
  {
   "cell_type": "code",
   "execution_count": 9,
   "metadata": {},
   "outputs": [
    {
     "name": "stdout",
     "output_type": "stream",
     "text": [
      "['veil-type = p', 'odor = n']\n",
      "['veil-type = p', 'bruises = f', 'gill-spacing = c', 'veil-color = w']\n",
      "['veil-type = p', 'bruises = f', 'gill-spacing = c', 'ring-number = o', 'gill-attachment = f', 'veil-color = w']\n",
      "['veil-type = p', 'bruises = f', 'gill-spacing = c', 'gill-attachment = f', 'veil-color = w']\n",
      "['veil-type = p', 'odor = n', 'gill-size = b']\n",
      "['veil-type = p', 'odor = n', 'gill-attachment = f', 'veil-color = w']\n",
      "['veil-type = p', 'odor = n', 'gill-attachment = f']\n",
      "['veil-type = p', 'stalk-surface-above-ring = s', 'gill-size = b']\n",
      "['veil-type = p', 'odor = n', 'gill-size = b', 'gill-attachment = f', 'veil-color = w']\n",
      "['veil-type = p', 'bruises = f', 'gill-spacing = c']\n"
     ]
    }
   ],
   "source": [
    "f = open(\"results.txt\",\"r\")\n",
    "for line in f:\n",
    "    description = line.split(\" : \")[0]\n",
    "    selectors = description.split(\" \")\n",
    "    selectors = [int(sel) for sel in selectors]\n",
    "    selectors = [translation_dict[sel] for sel in selectors]\n",
    "    print(str(selectors))"
   ]
  }
 ],
 "metadata": {
  "kernelspec": {
   "display_name": "base",
   "language": "python",
   "name": "python3"
  },
  "language_info": {
   "codemirror_mode": {
    "name": "ipython",
    "version": 3
   },
   "file_extension": ".py",
   "mimetype": "text/x-python",
   "name": "python",
   "nbconvert_exporter": "python",
   "pygments_lexer": "ipython3",
   "version": "3.10.12"
  }
 },
 "nbformat": 4,
 "nbformat_minor": 2
}
