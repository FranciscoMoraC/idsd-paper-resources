{
 "cells": [
  {
   "cell_type": "markdown",
   "metadata": {},
   "source": [
    "# Vancomycin sample\n",
    "\n",
    "This notebook contains the code to preprocess the Vancomycin dataset. We will also perform random undersampling to obtain the data for E2.\n",
    "\n",
    "This notebook requires the Vancomycin dataset, which can be generated using the code in the following repository: https://github.com/antoniolopezmc/A-methodology-based-on-Trace-based-clustering-for-patient-phenotyping/"
   ]
  },
  {
   "cell_type": "code",
   "execution_count": 31,
   "metadata": {},
   "outputs": [],
   "source": [
    "import pandas as pd\n",
    "import os"
   ]
  },
  {
   "cell_type": "code",
   "execution_count": 32,
   "metadata": {},
   "outputs": [
    {
     "data": {
      "text/html": [
       "<div>\n",
       "<style scoped>\n",
       "    .dataframe tbody tr th:only-of-type {\n",
       "        vertical-align: middle;\n",
       "    }\n",
       "\n",
       "    .dataframe tbody tr th {\n",
       "        vertical-align: top;\n",
       "    }\n",
       "\n",
       "    .dataframe thead th {\n",
       "        text-align: right;\n",
       "    }\n",
       "</style>\n",
       "<table border=\"1\" class=\"dataframe\">\n",
       "  <thead>\n",
       "    <tr style=\"text-align: right;\">\n",
       "      <th></th>\n",
       "      <th>patient_gender</th>\n",
       "      <th>exitus</th>\n",
       "      <th>admission_type</th>\n",
       "      <th>admission_location</th>\n",
       "      <th>discharge_location</th>\n",
       "      <th>culture_specimen_type_description</th>\n",
       "      <th>culture_microorganism_name</th>\n",
       "      <th>culture_susceptibility</th>\n",
       "      <th>service_when_culture</th>\n",
       "      <th>icu_when_culture</th>\n",
       "      <th>...</th>\n",
       "      <th>culture_mic_&lt;=128</th>\n",
       "      <th>patient_age</th>\n",
       "      <th>days_since_last_admission</th>\n",
       "      <th>days_between_admission_and_first_ICU</th>\n",
       "      <th>days_between_last_vancomycin_treatment_and_culture__ALL_ADMISSIONS</th>\n",
       "      <th>duration_of_last_vancomycin_treatment__ALL_ADMISSIONS</th>\n",
       "      <th>number_of_last_vancomycin_treatments__ALL_ADMISSIONS</th>\n",
       "      <th>duration_in_natural_days_of_last_vancomycin_treatments_in_the_last_180_days__ALL_ADMISSIONS</th>\n",
       "      <th>number_of_last_vancomycin_treatments_in_the_last_180_days__ALL_ADMISSIONS</th>\n",
       "      <th>culture_month</th>\n",
       "    </tr>\n",
       "  </thead>\n",
       "  <tbody>\n",
       "    <tr>\n",
       "      <th>0</th>\n",
       "      <td>M</td>\n",
       "      <td>Y</td>\n",
       "      <td>EMERGENCY</td>\n",
       "      <td>EMERGENCY ROOM ADMIT</td>\n",
       "      <td>DEAD/EXPIRED</td>\n",
       "      <td>BLOOD CULTURE</td>\n",
       "      <td>ENTEROCOCCUS FAECIUM</td>\n",
       "      <td>R</td>\n",
       "      <td>NO SERVICE</td>\n",
       "      <td>NO ICU</td>\n",
       "      <td>...</td>\n",
       "      <td>Y</td>\n",
       "      <td>88</td>\n",
       "      <td>141</td>\n",
       "      <td>0</td>\n",
       "      <td>-1</td>\n",
       "      <td>-1</td>\n",
       "      <td>0</td>\n",
       "      <td>-1</td>\n",
       "      <td>0</td>\n",
       "      <td>1</td>\n",
       "    </tr>\n",
       "    <tr>\n",
       "      <th>1</th>\n",
       "      <td>M</td>\n",
       "      <td>Y</td>\n",
       "      <td>EMERGENCY</td>\n",
       "      <td>TRANSFER FROM HOSP/EXTRAM</td>\n",
       "      <td>DEAD/EXPIRED</td>\n",
       "      <td>BLOOD CULTURE</td>\n",
       "      <td>ENTEROCOCCUS FAECIUM</td>\n",
       "      <td>R</td>\n",
       "      <td>SURG</td>\n",
       "      <td>SICU</td>\n",
       "      <td>...</td>\n",
       "      <td>Y</td>\n",
       "      <td>75</td>\n",
       "      <td>223</td>\n",
       "      <td>8</td>\n",
       "      <td>0</td>\n",
       "      <td>5</td>\n",
       "      <td>1</td>\n",
       "      <td>7</td>\n",
       "      <td>1</td>\n",
       "      <td>1</td>\n",
       "    </tr>\n",
       "    <tr>\n",
       "      <th>2</th>\n",
       "      <td>F</td>\n",
       "      <td>N</td>\n",
       "      <td>EMERGENCY</td>\n",
       "      <td>EMERGENCY ROOM ADMIT</td>\n",
       "      <td>REHAB/DISTINCT PART HOSP</td>\n",
       "      <td>BLOOD CULTURE</td>\n",
       "      <td>ENTEROCOCCUS FAECIUM</td>\n",
       "      <td>R</td>\n",
       "      <td>VSURG</td>\n",
       "      <td>SICU</td>\n",
       "      <td>...</td>\n",
       "      <td>Y</td>\n",
       "      <td>55</td>\n",
       "      <td>-1</td>\n",
       "      <td>0</td>\n",
       "      <td>-1</td>\n",
       "      <td>-1</td>\n",
       "      <td>0</td>\n",
       "      <td>-1</td>\n",
       "      <td>0</td>\n",
       "      <td>5</td>\n",
       "    </tr>\n",
       "    <tr>\n",
       "      <th>3</th>\n",
       "      <td>F</td>\n",
       "      <td>N</td>\n",
       "      <td>EMERGENCY</td>\n",
       "      <td>EMERGENCY ROOM ADMIT</td>\n",
       "      <td>REHAB/DISTINCT PART HOSP</td>\n",
       "      <td>BLOOD CULTURE</td>\n",
       "      <td>ENTEROCOCCUS FAECIUM</td>\n",
       "      <td>R</td>\n",
       "      <td>MED</td>\n",
       "      <td>CSRU</td>\n",
       "      <td>...</td>\n",
       "      <td>Y</td>\n",
       "      <td>69</td>\n",
       "      <td>-1</td>\n",
       "      <td>1</td>\n",
       "      <td>-1</td>\n",
       "      <td>-1</td>\n",
       "      <td>0</td>\n",
       "      <td>-1</td>\n",
       "      <td>0</td>\n",
       "      <td>6</td>\n",
       "    </tr>\n",
       "    <tr>\n",
       "      <th>4</th>\n",
       "      <td>F</td>\n",
       "      <td>Y</td>\n",
       "      <td>EMERGENCY</td>\n",
       "      <td>EMERGENCY ROOM ADMIT</td>\n",
       "      <td>DEAD/EXPIRED</td>\n",
       "      <td>BLOOD CULTURE</td>\n",
       "      <td>ENTEROCOCCUS FAECIUM</td>\n",
       "      <td>R</td>\n",
       "      <td>NO SERVICE</td>\n",
       "      <td>NO ICU</td>\n",
       "      <td>...</td>\n",
       "      <td>Y</td>\n",
       "      <td>63</td>\n",
       "      <td>-1</td>\n",
       "      <td>0</td>\n",
       "      <td>-1</td>\n",
       "      <td>-1</td>\n",
       "      <td>0</td>\n",
       "      <td>-1</td>\n",
       "      <td>0</td>\n",
       "      <td>12</td>\n",
       "    </tr>\n",
       "  </tbody>\n",
       "</table>\n",
       "<p>5 rows × 26 columns</p>\n",
       "</div>"
      ],
      "text/plain": [
       "  patient_gender exitus admission_type         admission_location  \\\n",
       "0              M      Y      EMERGENCY       EMERGENCY ROOM ADMIT   \n",
       "1              M      Y      EMERGENCY  TRANSFER FROM HOSP/EXTRAM   \n",
       "2              F      N      EMERGENCY       EMERGENCY ROOM ADMIT   \n",
       "3              F      N      EMERGENCY       EMERGENCY ROOM ADMIT   \n",
       "4              F      Y      EMERGENCY       EMERGENCY ROOM ADMIT   \n",
       "\n",
       "         discharge_location culture_specimen_type_description  \\\n",
       "0              DEAD/EXPIRED                     BLOOD CULTURE   \n",
       "1              DEAD/EXPIRED                     BLOOD CULTURE   \n",
       "2  REHAB/DISTINCT PART HOSP                     BLOOD CULTURE   \n",
       "3  REHAB/DISTINCT PART HOSP                     BLOOD CULTURE   \n",
       "4              DEAD/EXPIRED                     BLOOD CULTURE   \n",
       "\n",
       "  culture_microorganism_name culture_susceptibility service_when_culture  \\\n",
       "0       ENTEROCOCCUS FAECIUM                      R           NO SERVICE   \n",
       "1       ENTEROCOCCUS FAECIUM                      R                 SURG   \n",
       "2       ENTEROCOCCUS FAECIUM                      R                VSURG   \n",
       "3       ENTEROCOCCUS FAECIUM                      R                  MED   \n",
       "4       ENTEROCOCCUS FAECIUM                      R           NO SERVICE   \n",
       "\n",
       "  icu_when_culture  ... culture_mic_<=128 patient_age  \\\n",
       "0           NO ICU  ...                 Y          88   \n",
       "1             SICU  ...                 Y          75   \n",
       "2             SICU  ...                 Y          55   \n",
       "3             CSRU  ...                 Y          69   \n",
       "4           NO ICU  ...                 Y          63   \n",
       "\n",
       "  days_since_last_admission days_between_admission_and_first_ICU  \\\n",
       "0                       141                                    0   \n",
       "1                       223                                    8   \n",
       "2                        -1                                    0   \n",
       "3                        -1                                    1   \n",
       "4                        -1                                    0   \n",
       "\n",
       "  days_between_last_vancomycin_treatment_and_culture__ALL_ADMISSIONS  \\\n",
       "0                                                 -1                   \n",
       "1                                                  0                   \n",
       "2                                                 -1                   \n",
       "3                                                 -1                   \n",
       "4                                                 -1                   \n",
       "\n",
       "  duration_of_last_vancomycin_treatment__ALL_ADMISSIONS  \\\n",
       "0                                                 -1      \n",
       "1                                                  5      \n",
       "2                                                 -1      \n",
       "3                                                 -1      \n",
       "4                                                 -1      \n",
       "\n",
       "  number_of_last_vancomycin_treatments__ALL_ADMISSIONS  \\\n",
       "0                                                  0     \n",
       "1                                                  1     \n",
       "2                                                  0     \n",
       "3                                                  0     \n",
       "4                                                  0     \n",
       "\n",
       "   duration_in_natural_days_of_last_vancomycin_treatments_in_the_last_180_days__ALL_ADMISSIONS  \\\n",
       "0                                                 -1                                             \n",
       "1                                                  7                                             \n",
       "2                                                 -1                                             \n",
       "3                                                 -1                                             \n",
       "4                                                 -1                                             \n",
       "\n",
       "   number_of_last_vancomycin_treatments_in_the_last_180_days__ALL_ADMISSIONS  \\\n",
       "0                                                  0                           \n",
       "1                                                  1                           \n",
       "2                                                  0                           \n",
       "3                                                  0                           \n",
       "4                                                  0                           \n",
       "\n",
       "   culture_month  \n",
       "0              1  \n",
       "1              1  \n",
       "2              5  \n",
       "3              6  \n",
       "4             12  \n",
       "\n",
       "[5 rows x 26 columns]"
      ]
     },
     "execution_count": 32,
     "metadata": {},
     "output_type": "execute_result"
    }
   ],
   "source": [
    "df = pd.read_csv(\"../data/mimic-iii-preprocessed-db.csv\")\n",
    "df.head(5)"
   ]
  },
  {
   "cell_type": "code",
   "execution_count": 33,
   "metadata": {},
   "outputs": [
    {
     "data": {
      "text/plain": [
       "(531, 26)"
      ]
     },
     "execution_count": 33,
     "metadata": {},
     "output_type": "execute_result"
    }
   ],
   "source": [
    "df.shape"
   ]
  },
  {
   "cell_type": "code",
   "execution_count": 34,
   "metadata": {},
   "outputs": [],
   "source": [
    "numerical_columns = df.select_dtypes(include=['float64', 'int64']).columns\n",
    "df = df.drop(columns = numerical_columns)"
   ]
  },
  {
   "cell_type": "code",
   "execution_count": 35,
   "metadata": {},
   "outputs": [
    {
     "data": {
      "text/plain": [
       "Index(['patient_gender', 'exitus', 'admission_type', 'admission_location',\n",
       "       'discharge_location', 'culture_specimen_type_description',\n",
       "       'culture_microorganism_name', 'culture_susceptibility',\n",
       "       'service_when_culture', 'icu_when_culture'],\n",
       "      dtype='object')"
      ]
     },
     "execution_count": 35,
     "metadata": {},
     "output_type": "execute_result"
    }
   ],
   "source": [
    "df = df.drop(columns = ['culture_mic_<=1',\n",
    "       'culture_mic_<=2', 'culture_mic_<=4', 'culture_mic_<=8',\n",
    "       'culture_mic_<=16', 'culture_mic_<=32', 'culture_mic_<=128'])\n",
    "df.columns"
   ]
  },
  {
   "cell_type": "code",
   "execution_count": 36,
   "metadata": {},
   "outputs": [
    {
     "data": {
      "text/plain": [
       "67"
      ]
     },
     "execution_count": 36,
     "metadata": {},
     "output_type": "execute_result"
    }
   ],
   "source": [
    "n_sel = 0\n",
    "for col in df.columns:\n",
    "    n_sel += df[col].nunique()\n",
    "n_sel"
   ]
  },
  {
   "cell_type": "code",
   "execution_count": 40,
   "metadata": {},
   "outputs": [],
   "source": [
    "uncommon_values = []\n",
    "for c in df.columns:\n",
    "    v_c = df[c].value_counts()\n",
    "    uncommon_values.append(v_c[v_c < 10].index.tolist())\n",
    "uncommon_values = [item for sublist in uncommon_values for item in sublist]\n",
    "uncommon_values\n",
    "# Drop rows with uncommon values\n",
    "remove_index = []\n",
    "for i, row in df.iterrows():\n",
    "    if any([row[c] in uncommon_values for c in df.columns]):\n",
    "        remove_index.append(i)\n",
    "df = df.drop(index=remove_index)"
   ]
  },
  {
   "cell_type": "code",
   "execution_count": 41,
   "metadata": {},
   "outputs": [
    {
     "data": {
      "text/plain": [
       "(447, 10)"
      ]
     },
     "execution_count": 41,
     "metadata": {},
     "output_type": "execute_result"
    }
   ],
   "source": [
    "df.shape"
   ]
  },
  {
   "cell_type": "code",
   "execution_count": 44,
   "metadata": {},
   "outputs": [],
   "source": [
    "n_instances = list(range(100, 400+1, 50))"
   ]
  },
  {
   "cell_type": "code",
   "execution_count": null,
   "metadata": {},
   "outputs": [],
   "source": [
    "if not os.path.exists(\"vancomicyn-samples\"):\n",
    "    os.makedirs(\"vancomicyn-samples\")"
   ]
  },
  {
   "cell_type": "code",
   "execution_count": 46,
   "metadata": {},
   "outputs": [
    {
     "name": "stdout",
     "output_type": "stream",
     "text": [
      "100\n",
      "150\n",
      "200\n",
      "250\n",
      "300\n",
      "350\n",
      "400\n"
     ]
    }
   ],
   "source": [
    "for i in n_instances:\n",
    "    df_sample = df.sample(n = i, random_state = 42)\n",
    "    for col in df_sample.columns:\n",
    "        if df[col].nunique() != df_sample[col].nunique():\n",
    "            print(\"Different number of unique values\", col, \"for dataset\", i)\n",
    "            print(df[col].nunique())\n",
    "            print(df_sample[col].nunique())\n",
    "    df_sample.to_csv(\"vancomicyn-samples/mimic-iii-preprocessed-db-sample-\" + str(i) + \".csv\", index = False)"
   ]
  }
 ],
 "metadata": {
  "kernelspec": {
   "display_name": "orange",
   "language": "python",
   "name": "python3"
  },
  "language_info": {
   "codemirror_mode": {
    "name": "ipython",
    "version": 3
   },
   "file_extension": ".py",
   "mimetype": "text/x-python",
   "name": "python",
   "nbconvert_exporter": "python",
   "pygments_lexer": "ipython3",
   "version": "3.10.12"
  }
 },
 "nbformat": 4,
 "nbformat_minor": 2
}
