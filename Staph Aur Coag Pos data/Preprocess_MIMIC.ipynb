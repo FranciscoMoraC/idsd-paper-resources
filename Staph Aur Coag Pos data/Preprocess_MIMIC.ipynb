{
 "cells": [
  {
   "cell_type": "markdown",
   "metadata": {},
   "source": [
    "# Preprocess_MIMIC.ipynb\n",
    "\n",
    "This notebook preprocesses the Staph Aureus Coag+ dataset, including additional column removal and discretization of the data. We also split the data for E3.The datasets are then saved as CSV files."
   ]
  },
  {
   "cell_type": "code",
   "execution_count": 93,
   "metadata": {},
   "outputs": [],
   "source": [
    "import pandas as pd\n",
    "import numpy as np\n",
    "import seaborn as sns\n",
    "import matplotlib.pyplot as plt\n",
    "from sklearn.model_selection import train_test_split"
   ]
  },
  {
   "cell_type": "code",
   "execution_count": 94,
   "metadata": {},
   "outputs": [],
   "source": [
    "df = pd.read_csv(\"inter_query_7.csv\")"
   ]
  },
  {
   "cell_type": "code",
   "execution_count": 95,
   "metadata": {},
   "outputs": [
    {
     "data": {
      "text/html": [
       "<div>\n",
       "<style scoped>\n",
       "    .dataframe tbody tr th:only-of-type {\n",
       "        vertical-align: middle;\n",
       "    }\n",
       "\n",
       "    .dataframe tbody tr th {\n",
       "        vertical-align: top;\n",
       "    }\n",
       "\n",
       "    .dataframe thead th {\n",
       "        text-align: right;\n",
       "    }\n",
       "</style>\n",
       "<table border=\"1\" class=\"dataframe\">\n",
       "  <thead>\n",
       "    <tr style=\"text-align: right;\">\n",
       "      <th></th>\n",
       "      <th>ab_name</th>\n",
       "      <th>spec_type_desc</th>\n",
       "      <th>interpretation</th>\n",
       "      <th>gender</th>\n",
       "      <th>age</th>\n",
       "      <th>admission_type</th>\n",
       "      <th>admission_location</th>\n",
       "      <th>admission_days</th>\n",
       "      <th>exitus</th>\n",
       "      <th>discharge_location</th>\n",
       "      <th>icu_when_culture</th>\n",
       "      <th>days_since_last_treatment</th>\n",
       "      <th>number_of_treatments_last_180_days</th>\n",
       "      <th>days_with_treatment_last_180_days</th>\n",
       "    </tr>\n",
       "  </thead>\n",
       "  <tbody>\n",
       "    <tr>\n",
       "      <th>0</th>\n",
       "      <td>PENICILLIN</td>\n",
       "      <td>SPUTUM</td>\n",
       "      <td>R</td>\n",
       "      <td>M</td>\n",
       "      <td>56</td>\n",
       "      <td>ELECTIVE</td>\n",
       "      <td>PHYS REFERRAL/NORMAL DELI</td>\n",
       "      <td>4</td>\n",
       "      <td>f</td>\n",
       "      <td>DISC-TRAN TO FEDERAL HC</td>\n",
       "      <td>SICU</td>\n",
       "      <td>360</td>\n",
       "      <td>0</td>\n",
       "      <td>0</td>\n",
       "    </tr>\n",
       "    <tr>\n",
       "      <th>1</th>\n",
       "      <td>ERYTHROMYCIN</td>\n",
       "      <td>SPUTUM</td>\n",
       "      <td>R</td>\n",
       "      <td>M</td>\n",
       "      <td>62</td>\n",
       "      <td>EMERGENCY</td>\n",
       "      <td>EMERGENCY ROOM ADMIT</td>\n",
       "      <td>4</td>\n",
       "      <td>f</td>\n",
       "      <td>SNF</td>\n",
       "      <td>MICU</td>\n",
       "      <td>360</td>\n",
       "      <td>0</td>\n",
       "      <td>0</td>\n",
       "    </tr>\n",
       "    <tr>\n",
       "      <th>2</th>\n",
       "      <td>RIFAMPIN</td>\n",
       "      <td>SPUTUM</td>\n",
       "      <td>S</td>\n",
       "      <td>M</td>\n",
       "      <td>62</td>\n",
       "      <td>EMERGENCY</td>\n",
       "      <td>EMERGENCY ROOM ADMIT</td>\n",
       "      <td>4</td>\n",
       "      <td>f</td>\n",
       "      <td>SNF</td>\n",
       "      <td>MICU</td>\n",
       "      <td>360</td>\n",
       "      <td>0</td>\n",
       "      <td>0</td>\n",
       "    </tr>\n",
       "    <tr>\n",
       "      <th>3</th>\n",
       "      <td>TETRACYCLINE</td>\n",
       "      <td>SPUTUM</td>\n",
       "      <td>S</td>\n",
       "      <td>M</td>\n",
       "      <td>62</td>\n",
       "      <td>EMERGENCY</td>\n",
       "      <td>EMERGENCY ROOM ADMIT</td>\n",
       "      <td>11</td>\n",
       "      <td>f</td>\n",
       "      <td>SNF</td>\n",
       "      <td>MICU</td>\n",
       "      <td>360</td>\n",
       "      <td>0</td>\n",
       "      <td>0</td>\n",
       "    </tr>\n",
       "    <tr>\n",
       "      <th>4</th>\n",
       "      <td>LEVOFLOXACIN</td>\n",
       "      <td>BRONCHOALVEOLAR LAVAGE</td>\n",
       "      <td>R</td>\n",
       "      <td>M</td>\n",
       "      <td>80</td>\n",
       "      <td>EMERGENCY</td>\n",
       "      <td>EMERGENCY ROOM ADMIT</td>\n",
       "      <td>0</td>\n",
       "      <td>f</td>\n",
       "      <td>LONG TERM CARE HOSPITAL</td>\n",
       "      <td>MICU</td>\n",
       "      <td>360</td>\n",
       "      <td>0</td>\n",
       "      <td>0</td>\n",
       "    </tr>\n",
       "  </tbody>\n",
       "</table>\n",
       "</div>"
      ],
      "text/plain": [
       "        ab_name          spec_type_desc interpretation gender  age  \\\n",
       "0    PENICILLIN                  SPUTUM              R      M   56   \n",
       "1  ERYTHROMYCIN                  SPUTUM              R      M   62   \n",
       "2      RIFAMPIN                  SPUTUM              S      M   62   \n",
       "3  TETRACYCLINE                  SPUTUM              S      M   62   \n",
       "4  LEVOFLOXACIN  BRONCHOALVEOLAR LAVAGE              R      M   80   \n",
       "\n",
       "  admission_type         admission_location  admission_days exitus  \\\n",
       "0       ELECTIVE  PHYS REFERRAL/NORMAL DELI               4      f   \n",
       "1      EMERGENCY       EMERGENCY ROOM ADMIT               4      f   \n",
       "2      EMERGENCY       EMERGENCY ROOM ADMIT               4      f   \n",
       "3      EMERGENCY       EMERGENCY ROOM ADMIT              11      f   \n",
       "4      EMERGENCY       EMERGENCY ROOM ADMIT               0      f   \n",
       "\n",
       "        discharge_location icu_when_culture  days_since_last_treatment  \\\n",
       "0  DISC-TRAN TO FEDERAL HC             SICU                        360   \n",
       "1                      SNF             MICU                        360   \n",
       "2                      SNF             MICU                        360   \n",
       "3                      SNF             MICU                        360   \n",
       "4  LONG TERM CARE HOSPITAL             MICU                        360   \n",
       "\n",
       "   number_of_treatments_last_180_days  days_with_treatment_last_180_days  \n",
       "0                                   0                                  0  \n",
       "1                                   0                                  0  \n",
       "2                                   0                                  0  \n",
       "3                                   0                                  0  \n",
       "4                                   0                                  0  "
      ]
     },
     "execution_count": 95,
     "metadata": {},
     "output_type": "execute_result"
    }
   ],
   "source": [
    "remove_columns = [\"event_id\", \"subject_id\", \"hadm_id\", \"date\", \"drugs\"]\n",
    "df.drop(columns=remove_columns, inplace=True)\n",
    "df.head()"
   ]
  },
  {
   "cell_type": "code",
   "execution_count": 96,
   "metadata": {},
   "outputs": [],
   "source": [
    "def rename_categories(cat_series):\n",
    "    size = len(cat_series.cat.categories)\n",
    "    new_names = [ \"I\"+str(i) for i in range(size)]\n",
    "    return cat_series.cat.rename_categories(new_names)"
   ]
  },
  {
   "cell_type": "code",
   "execution_count": 97,
   "metadata": {},
   "outputs": [],
   "source": [
    "df[\"admission_days\"] = pd.qcut(df[\"admission_days\"],4,duplicates=\"drop\")\n",
    "df[\"admission_days\"] = rename_categories(df[\"admission_days\"])\n",
    "df[\"age\"] = pd.qcut(df[\"age\"],4,duplicates=\"drop\")\n",
    "df[\"age\"] = rename_categories(df[\"age\"])"
   ]
  },
  {
   "cell_type": "code",
   "execution_count": 98,
   "metadata": {},
   "outputs": [],
   "source": [
    "# In the SQL query, we only check for treatments in the last 180 days. If no treatment was found, we set the days since last treatment to 360.\n",
    "# We swap that value for NAN here\n",
    "df.loc[df[\"days_since_last_treatment\"] == 360,\"days_since_last_treatment\"] = np.NaN\n",
    "df[\"days_since_last_treatment\"] = pd.qcut(df[\"days_since_last_treatment\"],4,duplicates=\"drop\")\n",
    "df[\"days_since_last_treatment\"] = rename_categories(df[\"days_since_last_treatment\"])"
   ]
  },
  {
   "cell_type": "markdown",
   "metadata": {},
   "source": [
    "Since most patients have no prior treatment, which will oversimplify the binning by cuartiles, we group this values in a different bin."
   ]
  },
  {
   "cell_type": "code",
   "execution_count": 99,
   "metadata": {},
   "outputs": [
    {
     "data": {
      "text/plain": [
       "<Axes: >"
      ]
     },
     "execution_count": 99,
     "metadata": {},
     "output_type": "execute_result"
    },
    {
     "data": {
      "image/png": "[encoded data removed]",
      "text/plain": [
       "<Figure size 640x480 with 1 Axes>"
      ]
     },
     "metadata": {},
     "output_type": "display_data"
    },
    {
     "data": {
      "image/png": "[encoded data removed]",
      "text/plain": [
       "<Figure size 640x480 with 1 Axes>"
      ]
     },
     "metadata": {},
     "output_type": "display_data"
    },
    {
     "data": {
      "image/png": "[encoded data removed]",
      "text/plain": [
       "<Figure size 640x480 with 1 Axes>"
      ]
     },
     "metadata": {},
     "output_type": "display_data"
    }
   ],
   "source": [
    "# pd.qcut(df.admission_days, 4)\n",
    "pd.qcut(df[\"number_of_treatments_last_180_days\"], 4, duplicates=\"drop\").astype(\"str\").hist()\n",
    "plt.figure()\n",
    "df[\"number_of_treatments_last_180_days\"].hist()\n",
    "plt.figure()\n",
    "df[\"days_with_treatment_last_180_days\"].hist()"
   ]
  },
  {
   "cell_type": "code",
   "execution_count": 100,
   "metadata": {},
   "outputs": [
    {
     "name": "stderr",
     "output_type": "stream",
     "text": [
      "/tmp/ipykernel_65611/4055736834.py:3: FutureWarning: Setting an item of incompatible dtype is deprecated and will raise in a future error of pandas. Value '[NaN, NaN, NaN, NaN, NaN, ..., NaN, NaN, NaN, NaN, NaN]\n",
      "Length: 59274\n",
      "Categories (3, interval[float64, right]): [(0.999, 2.0] < (2.0, 3.0] < (3.0, 28.0]]' has dtype incompatible with float64, please explicitly cast to a compatible dtype first.\n",
      "  df.loc[:,\"number_of_treatments_last_180_days\"] = pd.qcut(df[\"number_of_treatments_last_180_days\"], 4, duplicates=\"drop\")\n"
     ]
    }
   ],
   "source": [
    "df.loc[df[\"number_of_treatments_last_180_days\"] == 0,\"number_of_treatments_last_180_days\"] = np.NaN\n",
    "# df.loc[:,\"number_of_treatments_last_180_days\"] = pd.qcut(df[\"number_of_treatments_last_180_days\"], 4, duplicates=\"drop\").cat.rename_categories([\"I0\",\"I1\",\"I2\",\"I3\"]).astype(\"str\")\n",
    "df.loc[:,\"number_of_treatments_last_180_days\"] = pd.qcut(df[\"number_of_treatments_last_180_days\"], 4, duplicates=\"drop\")\n",
    "df[\"number_of_treatments_last_180_days\"] = rename_categories(df[\"number_of_treatments_last_180_days\"]).astype(\"str\")\n",
    "df.loc[df[\"number_of_treatments_last_180_days\"] == \"nan\", \"number_of_treatments_last_180_days\"] = \"0\""
   ]
  },
  {
   "cell_type": "code",
   "execution_count": 101,
   "metadata": {},
   "outputs": [
    {
     "name": "stderr",
     "output_type": "stream",
     "text": [
      "/tmp/ipykernel_65611/2024723783.py:2: FutureWarning: Setting an item of incompatible dtype is deprecated and will raise in a future error of pandas. Value '[NaN, NaN, NaN, NaN, NaN, ..., NaN, NaN, NaN, NaN, NaN]\n",
      "Length: 59274\n",
      "Categories (4, interval[float64, right]): [(-3.001, 2.0] < (2.0, 4.0] < (4.0, 9.0] < (9.0, 142.0]]' has dtype incompatible with float64, please explicitly cast to a compatible dtype first.\n",
      "  df.loc[:,\"days_with_treatment_last_180_days\"] = pd.qcut(df[\"days_with_treatment_last_180_days\"], 4, duplicates=\"drop\")\n"
     ]
    }
   ],
   "source": [
    "\n",
    "df.loc[df[\"days_with_treatment_last_180_days\"] == 0,\"days_with_treatment_last_180_days\"] = np.NaN\n",
    "df.loc[:,\"days_with_treatment_last_180_days\"] = pd.qcut(df[\"days_with_treatment_last_180_days\"], 4, duplicates=\"drop\")\n",
    "df[\"days_with_treatment_last_180_days\"] = rename_categories(df[\"days_with_treatment_last_180_days\"]).astype(\"str\")\n",
    "df.loc[df[\"days_with_treatment_last_180_days\"] == \"nan\", \"days_with_treatment_last_180_days\"] = \"0\""
   ]
  },
  {
   "cell_type": "code",
   "execution_count": 102,
   "metadata": {},
   "outputs": [
    {
     "data": {
      "text/plain": [
       "number_of_treatments_last_180_days\n",
       "0     54908\n",
       "I0     3043\n",
       "I2      847\n",
       "I1      476\n",
       "Name: count, dtype: int64"
      ]
     },
     "execution_count": 102,
     "metadata": {},
     "output_type": "execute_result"
    }
   ],
   "source": [
    "df.number_of_treatments_last_180_days.value_counts()"
   ]
  },
  {
   "cell_type": "code",
   "execution_count": 103,
   "metadata": {},
   "outputs": [],
   "source": [
    "df_train, df_test = train_test_split(df, test_size=0.2, stratify=df[\"interpretation\"], random_state=42)"
   ]
  },
  {
   "cell_type": "code",
   "execution_count": 104,
   "metadata": {},
   "outputs": [],
   "source": [
    "df.to_csv(\"sa-cog-pos.csv\", index = False)\n",
    "df_train.to_csv(\"sa-cog-pos_train.csv\", index = False)\n",
    "df_test.to_csv(\"sa-cog-pos_test.csv\", index = False)"
   ]
  }
 ],
 "metadata": {
  "kernelspec": {
   "display_name": "PythonVenv",
   "language": "python",
   "name": "python3"
  },
  "language_info": {
   "codemirror_mode": {
    "name": "ipython",
    "version": 3
   },
   "file_extension": ".py",
   "mimetype": "text/x-python",
   "name": "python",
   "nbconvert_exporter": "python",
   "pygments_lexer": "ipython3",
   "version": "3.11.2"
  }
 },
 "nbformat": 4,
 "nbformat_minor": 2
}
