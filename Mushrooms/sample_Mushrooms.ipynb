{
 "cells": [
  {
   "cell_type": "markdown",
   "metadata": {},
   "source": [
    "# Sample Mushrooms\n",
    "\n",
    "This notebook contains the code to sample the Mushrooms dataset for E2."
   ]
  },
  {
   "cell_type": "code",
   "execution_count": 5,
   "metadata": {},
   "outputs": [],
   "source": [
    "import pandas as pd\n",
    "import numpy as np\n",
    "import matplotlib.pyplot as plt\n",
    "import seaborn as sns"
   ]
  },
  {
   "cell_type": "code",
   "execution_count": 6,
   "metadata": {},
   "outputs": [],
   "source": [
    "# Load the data\n",
    "df = pd.read_csv('../data/agaricus-lepiota.data', header=None)\n",
    "df.columns = [ \"poisonous\",\n",
    "        \"cap-shape\", \"cap-surface\", \"cap-color\", \"bruises\", \"odor\",\n",
    "        \"gill-attachment\", \"gill-spacing\", \"gill-size\", \"gill-color\",\n",
    "        \"stalk-shape\", \"stalk-root\", \"stalk-surface-above-ring\",\n",
    "        \"stalk-surface-below-ring\", \"stalk-color-above-ring\",\n",
    "        \"stalk-color-below-ring\", \"veil-type\", \"veil-color\",\n",
    "        \"ring-number\", \"ring-type\", \"spore-print-color\",\n",
    "        \"population\", \"habitat\"]\n",
    "df = df.astype(\"str\")\n",
    "# Number of selectors in the original dataset\n",
    "base_n_selector = df.nunique()\n"
   ]
  },
  {
   "cell_type": "code",
   "execution_count": 14,
   "metadata": {},
   "outputs": [],
   "source": [
    "for i in range(1,9):\n",
    "    sub_df = df.sample(i*1000, random_state=1)\n",
    "    n_selector = sub_df.nunique()\n",
    "    # Check if the number of selectors is the same as the base\n",
    "    if all(base_n_selector == n_selector):\n",
    "        sub_df.to_csv(f\"./agaricus-lepiota-sample-{i}000.csv\", index=False, header=False)\n",
    "    else:\n",
    "        print(f\"Sample {i}000 has different number of selectors. Skipping...\")"
   ]
  }
 ],
 "metadata": {
  "kernelspec": {
   "display_name": ".venv",
   "language": "python",
   "name": "python3"
  },
  "language_info": {
   "codemirror_mode": {
    "name": "ipython",
    "version": 3
   },
   "file_extension": ".py",
   "mimetype": "text/x-python",
   "name": "python",
   "nbconvert_exporter": "python",
   "pygments_lexer": "ipython3",
   "version": "3.11.2"
  }
 },
 "nbformat": 4,
 "nbformat_minor": 2
}
